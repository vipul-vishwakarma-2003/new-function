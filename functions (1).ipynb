{
  "nbformat": 4,
  "nbformat_minor": 0,
  "metadata": {
    "colab": {
      "provenance": []
    },
    "kernelspec": {
      "name": "python3",
      "display_name": "Python 3"
    },
    "language_info": {
      "name": "python"
    }
  },
  "cells": [
    {
      "cell_type": "markdown",
      "source": [
        "FUNCTIONS\n",
        "\n",
        "---\n",
        "\n",
        "1.  What is the difference between a function and a method in Python?\n",
        "  - Functions are independent blocks of code that can be called from anywhere, while methods are tied to objects or classes and need an object or class instance to be invoked.\n",
        "  - function -> def add(x,y): return x + y\n",
        "  - method -> class maths: def add(x,y): return x + y\n",
        "\n",
        "2.  Explain the concept of function arguments and parameters in Python.\n",
        "  - parameter is the variable which is listed in parentheses in the function definition. An argument is the value of that variable which is defined, it's sent to function whenever it get called.\n",
        "  - def add(x,y): #here x and y are the parameters,\n",
        "  - add(5, 4) #here 5 and 4 are the values of parameters that's why it's called argument.\n",
        "\n",
        "3. What are the different ways to define and call a function in Python?\n",
        "  - for defining a function we should need to use the key word 'def' in the begining and then we should write the function name along with parameter, ex -> def add(x, y)\n",
        "  - for calling the defined function we can simply use the function name which we defined before. ex -> add(5, 4)\n",
        "\n",
        "4.  What is the purpose of the 'return' statement in a Python function?\n",
        "  - the return statement is used for to returning the output what will a function give after defining a function. ex -> def add(x,y): return x + y\n",
        "\n",
        "5.  What are iterators in Python and how do they differ from iterables?\n",
        "  - An Iterable is basically an object that any user can iterate over. An Iterator is also an object that helps a user in iterating over another object (that is iterable). We can generate an iterator when we pass the object to the iter() method. ex -> list is an iterable object, x = [1, 2, 3, 4]\n",
        "\n",
        "6.  Explain the concept of generators in Python and how they are defined.\n",
        "  - A special type of function which does not return a single value: it returns an iterator object with a sequence of values.\n",
        "  - A Python generator function is defined like a normal function. However, in the normal function, we use the return keyword, whereas in generators, we use the yield keyword to generate a value. Ex -> def new_generator(): yeild1 yield2 yield3.\n",
        "\n",
        "7.  What are the advantages of using generators over regular functions?.\n",
        "  - Generators differ from standard functions in that they allow you to iterate through a sequence of values over time, instead of computing and returning a single result. Ex -> def new_generator(): yeild1 yield2 yield3.\n",
        "\n",
        "8. What is a lambda function in Python and when is it typically used?\n",
        "  - Python Lambda Functions are anonymous functions means that the function is without a name. The lambda keyword is used to define an anonymous function in Python.Use lambda functions when an anonymous function is required for a short period of time.\n",
        "  - function = lambda x, y : x + y\n",
        "\n",
        "9.  Explain the purpose and usage of the 'map()' function in Python.\n",
        "  - Map in Python is a function that works as an iterator to return a result after applying a function to every item of an iterable (tuple, lists, etc.),  It is used when you want to apply a single transformation function to all the iterable elements. Ex -> square_list = map(square, range(5))\n",
        "\n",
        "10. What is the difference between 'map()', 'reduce()', and 'filter()' functions in Python?\n",
        "  - 'Map' applies a given function to each item of an iterable (like a list or set) and returns a list of the results. 'Filter' constructs a list from elements of an iterable for which a function returns true. 'Reduce' applies a rolling computation to sequential pairs of values in a list and returns a single result.\n",
        "\n",
        "11.  Using pen & Paper write the internal mechanism for sum operation using  reduce function on this given list:[47,11,42,13]\n",
        "  - attached in docs"
      ],
      "metadata": {
        "id": "8kVOFtrMjeIA"
      }
    },
    {
      "cell_type": "code",
      "execution_count": null,
      "metadata": {
        "id": "HNa5MlqGjbfM",
        "colab": {
          "base_uri": "https://localhost:8080/"
        },
        "outputId": "3b87dbe2-382c-4683-f4de-354f200f6396"
      },
      "outputs": [
        {
          "output_type": "stream",
          "name": "stdout",
          "text": [
            "6\n"
          ]
        }
      ],
      "source": [
        "#1. Write a Python function that takes a list of numbers as input and returns the sum of all even numbers in the list.\n",
        "\n",
        "def sum(x):\n",
        "    s = 0\n",
        "    for i in x:\n",
        "        if i % 2 == 0:\n",
        "            s = s + i\n",
        "    return s\n",
        "\n",
        "list = [1, 2, 3, 4, 5]\n",
        "print(sum(list))"
      ]
    },
    {
      "cell_type": "code",
      "source": [
        "#2. Create a Python function that accepts a string and returns the reverse of that string.\n",
        "\n",
        "def reversed_string(str):\n",
        "  return str[::-1]\n",
        "\n",
        "print(reversed_string(\"abcd\"))"
      ],
      "metadata": {
        "colab": {
          "base_uri": "https://localhost:8080/"
        },
        "id": "JhFvXxr5QcuM",
        "outputId": "ab6472ac-6773-4bb9-8d54-9d36bc306f76"
      },
      "execution_count": null,
      "outputs": [
        {
          "output_type": "stream",
          "name": "stdout",
          "text": [
            "dcba\n"
          ]
        }
      ]
    },
    {
      "cell_type": "code",
      "source": [
        "#3. Implement a Python function that takes a list of integers and returns a new list containing the squares of each number.\n",
        "\n",
        "def squared(x):\n",
        "    y = []\n",
        "    for i in x:\n",
        "        # j = i ** 2\n",
        "        y.append(i ** 2)\n",
        "    return y\n",
        "\n",
        "list = [1, 2, 3, 4, 5]\n",
        "print(squared(list))"
      ],
      "metadata": {
        "colab": {
          "base_uri": "https://localhost:8080/"
        },
        "id": "y3ZAoXS1Q8vF",
        "outputId": "6e7a0952-c4a8-451a-aa45-c3d68d844ac2"
      },
      "execution_count": null,
      "outputs": [
        {
          "output_type": "stream",
          "name": "stdout",
          "text": [
            "[1, 4, 9, 16, 25]\n"
          ]
        }
      ]
    },
    {
      "cell_type": "code",
      "source": [
        "#4.  Write a Python function that checks if a given number is prime or not from 1 to 200.\n",
        "\n",
        "def prime_no(number):\n",
        "    if number < 2:\n",
        "        return False\n",
        "\n",
        "    for i in range(2, int(number**0.5) + 1 ):\n",
        "        if number % i == 0:\n",
        "            return False\n",
        "\n",
        "    return True\n",
        "\n",
        "num = int(input(\"enter a number to check: \"))\n",
        "if 1<num<200:\n",
        "    if prime_no(num):\n",
        "        print(f\"{num} is a prime number.\")\n",
        "    else:\n",
        "        print(f\"{num} is not a prime number.\")\n",
        "else:\n",
        "    print(f\"nummber {num} is out of range.\")"
      ],
      "metadata": {
        "colab": {
          "base_uri": "https://localhost:8080/"
        },
        "id": "b40Q1ftjSYOw",
        "outputId": "cff36470-73cc-40f5-9664-2e222ef25537"
      },
      "execution_count": null,
      "outputs": [
        {
          "output_type": "stream",
          "name": "stdout",
          "text": [
            "enter a number to check: 145\n",
            "145 is not a prime number.\n"
          ]
        }
      ]
    },
    {
      "cell_type": "code",
      "source": [
        "#5. Create an iterator class in Python that generates the Fibonacci sequence up to a specified number of terms.\n",
        "\n",
        "def fib(n):\n",
        "    a = 0\n",
        "    b = 1\n",
        "    for i in range(n):\n",
        "        yield a\n",
        "        a, b = b, a+b\n",
        "\n",
        "f = fib(6)\n",
        "print(next(f))\n",
        "print(next(f))\n",
        "print(next(f))\n",
        "print(next(f))\n",
        "print(next(f))"
      ],
      "metadata": {
        "id": "0XoChtK-YVTB",
        "colab": {
          "base_uri": "https://localhost:8080/"
        },
        "outputId": "ac69391c-a6f3-40c4-f048-cb834159b909"
      },
      "execution_count": null,
      "outputs": [
        {
          "output_type": "stream",
          "name": "stdout",
          "text": [
            "0\n",
            "1\n",
            "1\n",
            "2\n",
            "3\n"
          ]
        }
      ]
    },
    {
      "cell_type": "code",
      "source": [
        "#6. Write a generator function in Python that yields the powers of 2 up to a given exponent.\n",
        "\n",
        "def power(n):\n",
        "    for i in range(n):\n",
        "\n",
        "        yield i ** 2\n",
        "num = power(5)\n",
        "print(next(num))\n",
        "print(next(num))\n",
        "print(next(num))\n",
        "print(next(num))\n",
        "print(next(num))"
      ],
      "metadata": {
        "colab": {
          "base_uri": "https://localhost:8080/"
        },
        "id": "KVsD8vhpyBFG",
        "outputId": "69b205a6-eed9-49d9-87a4-bf6d46779b85"
      },
      "execution_count": null,
      "outputs": [
        {
          "output_type": "stream",
          "name": "stdout",
          "text": [
            "0\n",
            "1\n",
            "4\n",
            "9\n",
            "16\n"
          ]
        }
      ]
    },
    {
      "cell_type": "code",
      "source": [
        "#7. Implement a generator function that reads a file line by line and yields each line as a string.\n",
        "\n",
        "f = open(\"practice.txt\", \"r\")\n",
        "def type_file(x):\n",
        "    i = x.readline()\n",
        "    for i in x:\n",
        "        print(type(i))\n",
        "    yield\n",
        "next(type_file(f))"
      ],
      "metadata": {
        "id": "NG7jQwLbzJtR"
      },
      "execution_count": null,
      "outputs": []
    },
    {
      "cell_type": "code",
      "source": [
        "#8. Use a lambda function in Python to sort a list of tuples based on the second element of each tuple.\n",
        "\n",
        "sort_tuple = lambda x: print(sorted(x))\n",
        "tuple = (\"ajay\", \"vipul\", \"ayush\", \"sufiyan\")\n",
        "\n",
        "sort_tuple(tuple)"
      ],
      "metadata": {
        "colab": {
          "base_uri": "https://localhost:8080/"
        },
        "id": "2KjrhLny8H9e",
        "outputId": "cee4093e-bbe3-4cc8-cc49-7be89fa70dd5"
      },
      "execution_count": null,
      "outputs": [
        {
          "output_type": "stream",
          "name": "stdout",
          "text": [
            "['ajay', 'ayush', 'sufiyan', 'vipul']\n"
          ]
        }
      ]
    },
    {
      "cell_type": "code",
      "source": [
        "#9. Write a Python program that uses `map()` to convert a list of temperatures from Celsius to Fahrenheit.\n",
        "\n",
        "celsius = [26, 28, 30, 32, 34]\n",
        "def fahreniet(x):\n",
        "    return (x * 9/5) + 32\n",
        "\n",
        "print(list(map(fahreniet, celsius)))"
      ],
      "metadata": {
        "colab": {
          "base_uri": "https://localhost:8080/"
        },
        "id": "3e1FunGC8Sml",
        "outputId": "cb8015a9-cdf6-40af-efa1-e38cc643faa9"
      },
      "execution_count": null,
      "outputs": [
        {
          "output_type": "stream",
          "name": "stdout",
          "text": [
            "[78.8, 82.4, 86.0, 89.6, 93.2]\n"
          ]
        }
      ]
    },
    {
      "cell_type": "code",
      "source": [
        "#10.  Create a Python program that uses `filter()` to remove all the vowels from a given string.\n",
        "\n",
        "def without_vowels(x):\n",
        "    result = \"\"\n",
        "    x = x.lower()\n",
        "\n",
        "    for i in x:\n",
        "        if (i != \"a\" and i != \"e\" and i != \"i\" and i!=\"o\" and i != \"u\"):\n",
        "            result = result + i\n",
        "    print(result)\n",
        "\n",
        "y = \"i am studying python.\"\n",
        "list(filter(without_vowels, y))"
      ],
      "metadata": {
        "colab": {
          "base_uri": "https://localhost:8080/"
        },
        "id": "f4sh8Vpt8Us-",
        "outputId": "e2c20242-e586-4a9a-afb5-76087ee3de5b"
      },
      "execution_count": null,
      "outputs": [
        {
          "output_type": "stream",
          "name": "stdout",
          "text": [
            "\n",
            " \n",
            "\n",
            "m\n",
            " \n",
            "s\n",
            "t\n",
            "\n",
            "d\n",
            "y\n",
            "\n",
            "n\n",
            "g\n",
            " \n",
            "p\n",
            "y\n",
            "t\n",
            "h\n",
            "\n",
            "n\n",
            ".\n"
          ]
        },
        {
          "output_type": "execute_result",
          "data": {
            "text/plain": [
              "[]"
            ]
          },
          "metadata": {},
          "execution_count": 5
        }
      ]
    },
    {
      "cell_type": "code",
      "source": [
        "#11. Write a Python program, which returns a list with 2-tuples. Each tuple consists of the order number and the\n",
        "# product of the price per item and the quantity. The product should be increased by 10,- € if the value of the\n",
        "# order is smaller than 100.00 €.\n",
        "\n",
        "cst1 = {\"order\": 34587, \"author & title\" : \"learning pyhton, Mark Lutz\", \"quantity\" : 4, \"price\" : 40.95}\n",
        "cst2 = {\"order\": 98762, \"author & title\" : \"programming Python, Mark Lutz\", \"quantity\" : 5, \"price\" : 56.80}\n",
        "cst3 = {\"order\": 77226, \"author & title\" : \"Head first Python, Paul Barry\", \"quantity\" : 3, \"price\" : 32.955}\n",
        "cst4 = {\"order\": 88112, \"author & title\" : \"Einfuhring in Python3, Bernd Klein\", \"quantity\" : 3, \"price\" : 24.99}\n",
        "\n",
        "def cst_details(x):\n",
        "    if x[\"quantity\"] * x[\"price\"] <= 100:\n",
        "        x[\"quantity\"] = 10\n",
        "    return x.keys(), x.values()\n",
        "\n",
        "print(cst_details(cst1))\n",
        "print(cst_details(cst4))"
      ],
      "metadata": {
        "colab": {
          "base_uri": "https://localhost:8080/"
        },
        "id": "VC5H9M-s8XB9",
        "outputId": "475a456e-fa84-4641-85fc-6d100e7be660"
      },
      "execution_count": null,
      "outputs": [
        {
          "output_type": "stream",
          "name": "stdout",
          "text": [
            "(dict_keys(['order', 'author & title', 'quantity', 'price']), dict_values([34587, 'learning pyhton, Mark Lutz', 4, 40.95]))\n",
            "(dict_keys(['order', 'author & title', 'quantity', 'price']), dict_values([88112, 'Einfuhring in Python3, Bernd Klein', 10, 24.99]))\n"
          ]
        }
      ]
    }
  ]
}